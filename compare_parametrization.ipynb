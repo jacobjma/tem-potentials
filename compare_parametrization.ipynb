{
 "cells": [
  {
   "cell_type": "code",
   "execution_count": 74,
   "metadata": {},
   "outputs": [
    {
     "name": "stdout",
     "output_type": "stream",
     "text": [
      "The autoreload extension is already loaded. To reload it, use:\n",
      "  %reload_ext autoreload\n"
     ]
    }
   ],
   "source": [
    "%load_ext autoreload\n",
    "%autoreload 2\n",
    "from potentials import ParameterizedPotential\n",
    "import utils\n",
    "import matplotlib.pyplot as plt\n",
    "import numpy as np"
   ]
  },
  {
   "cell_type": "markdown",
   "metadata": {},
   "source": [
    "## Comparing scattering factors"
   ]
  },
  {
   "cell_type": "code",
   "execution_count": 78,
   "metadata": {},
   "outputs": [
    {
     "ename": "KeyError",
     "evalue": "6",
     "output_type": "error",
     "traceback": [
      "\u001b[0;31m---------------------------------------------------------------------------\u001b[0m",
      "\u001b[0;31mKeyError\u001b[0m                                  Traceback (most recent call last)",
      "\u001b[0;32m<ipython-input-78-fb14f07aa2f5>\u001b[0m in \u001b[0;36m<module>\u001b[0;34m\u001b[0m\n\u001b[1;32m     20\u001b[0m \u001b[0max2\u001b[0m\u001b[0;34m.\u001b[0m\u001b[0mplot\u001b[0m\u001b[0;34m(\u001b[0m\u001b[0mg\u001b[0m\u001b[0;34m,\u001b[0m \u001b[0mf\u001b[0m\u001b[0;34m(\u001b[0m\u001b[0mg\u001b[0m\u001b[0;34m)\u001b[0m\u001b[0;34m,\u001b[0m \u001b[0mlabel\u001b[0m\u001b[0;34m=\u001b[0m\u001b[0;34m'Weickenmeier'\u001b[0m\u001b[0;34m)\u001b[0m\u001b[0;34m\u001b[0m\u001b[0m\n\u001b[1;32m     21\u001b[0m \u001b[0;34m\u001b[0m\u001b[0m\n\u001b[0;32m---> 22\u001b[0;31m \u001b[0mf\u001b[0m \u001b[0;34m=\u001b[0m \u001b[0mParameterizedPotential\u001b[0m\u001b[0;34m(\u001b[0m\u001b[0;34m'gpaw'\u001b[0m\u001b[0;34m)\u001b[0m\u001b[0;34m.\u001b[0m\u001b[0mscattering_factor\u001b[0m\u001b[0;34m(\u001b[0m\u001b[0melement\u001b[0m\u001b[0;34m)\u001b[0m\u001b[0;34m\u001b[0m\u001b[0m\n\u001b[0m\u001b[1;32m     23\u001b[0m \u001b[0max1\u001b[0m\u001b[0;34m.\u001b[0m\u001b[0mplot\u001b[0m\u001b[0;34m(\u001b[0m\u001b[0mg\u001b[0m\u001b[0;34m,\u001b[0m \u001b[0mf\u001b[0m\u001b[0;34m(\u001b[0m\u001b[0mg\u001b[0m\u001b[0;34m)\u001b[0m\u001b[0;34m,\u001b[0m \u001b[0mlabel\u001b[0m\u001b[0;34m=\u001b[0m\u001b[0;34m'GPAW'\u001b[0m\u001b[0;34m)\u001b[0m\u001b[0;34m\u001b[0m\u001b[0m\n\u001b[1;32m     24\u001b[0m \u001b[0max2\u001b[0m\u001b[0;34m.\u001b[0m\u001b[0mplot\u001b[0m\u001b[0;34m(\u001b[0m\u001b[0mg\u001b[0m\u001b[0;34m,\u001b[0m \u001b[0mf\u001b[0m\u001b[0;34m(\u001b[0m\u001b[0mg\u001b[0m\u001b[0;34m)\u001b[0m\u001b[0;34m,\u001b[0m \u001b[0mlabel\u001b[0m\u001b[0;34m=\u001b[0m\u001b[0;34m'GPAW'\u001b[0m\u001b[0;34m)\u001b[0m\u001b[0;34m\u001b[0m\u001b[0m\n",
      "\u001b[0;32m/mnt/d/github/tem-potentials/potentials.py\u001b[0m in \u001b[0;36mscattering_factor\u001b[0;34m(self, number)\u001b[0m\n\u001b[1;32m    309\u001b[0m \u001b[0;34m\u001b[0m\u001b[0m\n\u001b[1;32m    310\u001b[0m     \u001b[0;32mdef\u001b[0m \u001b[0mscattering_factor\u001b[0m\u001b[0;34m(\u001b[0m\u001b[0mself\u001b[0m\u001b[0;34m,\u001b[0m \u001b[0mnumber\u001b[0m\u001b[0;34m)\u001b[0m\u001b[0;34m:\u001b[0m\u001b[0;34m\u001b[0m\u001b[0m\n\u001b[0;32m--> 311\u001b[0;31m         \u001b[0;32mreturn\u001b[0m \u001b[0mself\u001b[0m\u001b[0;34m.\u001b[0m\u001b[0m_scattering_factor\u001b[0m\u001b[0;34m(\u001b[0m\u001b[0mself\u001b[0m\u001b[0;34m.\u001b[0m\u001b[0mparameters\u001b[0m\u001b[0;34m[\u001b[0m\u001b[0mnumber\u001b[0m\u001b[0;34m]\u001b[0m\u001b[0;34m)\u001b[0m\u001b[0;34m[\u001b[0m\u001b[0;36m0\u001b[0m\u001b[0;34m]\u001b[0m\u001b[0;34m\u001b[0m\u001b[0m\n\u001b[0m\u001b[1;32m    312\u001b[0m \u001b[0;34m\u001b[0m\u001b[0m\n\u001b[1;32m    313\u001b[0m     \u001b[0;32mdef\u001b[0m \u001b[0mdensity\u001b[0m\u001b[0;34m(\u001b[0m\u001b[0mself\u001b[0m\u001b[0;34m,\u001b[0m \u001b[0mnumber\u001b[0m\u001b[0;34m)\u001b[0m\u001b[0;34m:\u001b[0m\u001b[0;34m\u001b[0m\u001b[0m\n",
      "\u001b[0;31mKeyError\u001b[0m: 6"
     ]
    },
    {
     "data": {
      "image/png": "[encoded data removed]",
      "text/plain": [
       "<Figure size 1008x576 with 2 Axes>"
      ]
     },
     "metadata": {
      "needs_background": "light"
     },
     "output_type": "display_data"
    }
   ],
   "source": [
    "element = 6\n",
    "g = utils.log_grid(1e-10, 140, 1000)\n",
    "\n",
    "fig, (ax1,ax2) = plt.subplots(1,2,figsize=(14,8))\n",
    "\n",
    "f = ParameterizedPotential('lobato').scattering_factor(element)\n",
    "ax1.plot(g, f(g), label='Lobato')\n",
    "ax2.plot(g, f(g), label='Lobato')\n",
    "\n",
    "f = ParameterizedPotential('kirkland').scattering_factor(element)\n",
    "ax1.plot(g, f(g), label='Kirkland')\n",
    "ax2.plot(g, f(g), label='Kirkland')\n",
    "\n",
    "f = ParameterizedPotential('peng').scattering_factor(element)\n",
    "ax1.plot(g, f(g), label='Peng')\n",
    "ax2.plot(g, f(g), label='Peng')\n",
    "\n",
    "f = ParameterizedPotential('weickenmeier').scattering_factor(element)\n",
    "ax1.plot(g, f(g), label='Weickenmeier')\n",
    "ax2.plot(g, f(g), label='Weickenmeier')\n",
    "\n",
    "f = ParameterizedPotential('gpaw').scattering_factor(element)\n",
    "ax1.plot(g, f(g), label='GPAW')\n",
    "ax2.plot(g, f(g), label='GPAW')\n",
    "print(f(0))\n",
    "\n",
    "plt.ylim([0,9])\n",
    "plt.xlim([0,12])\n",
    "\n",
    "ax1.set_xlim([0,2])\n",
    "ax1.set_ylim([0,3])\n",
    "ax1.legend()\n",
    "\n",
    "ax2.set_xlim([10,140])\n",
    "ax2.set_ylim([0,5*1e-3])\n",
    "ax2.legend()"
   ]
  },
  {
   "cell_type": "markdown",
   "metadata": {},
   "source": [
    "## Comparing potentials"
   ]
  },
  {
   "cell_type": "code",
   "execution_count": 72,
   "metadata": {},
   "outputs": [
    {
     "name": "stderr",
     "output_type": "stream",
     "text": [
      "/mnt/d/github/tem-potentials/potentials.py:190: RuntimeWarning: divide by zero encountered in double_scalars\n",
      "  b = [np.pi / np.sqrt(parameters[key] / 4) for key in ('b1', 'b2', 'b3', 'b4', 'b5', 'b6')]\n"
     ]
    },
    {
     "data": {
      "text/plain": [
       "(2, 2.1)"
      ]
     },
     "execution_count": 72,
     "metadata": {},
     "output_type": "execute_result"
    },
    {
     "data": {
      "image/png": "[encoded data removed]",
      "text/plain": [
       "<Figure size 432x288 with 2 Axes>"
      ]
     },
     "metadata": {
      "needs_background": "light"
     },
     "output_type": "display_data"
    }
   ],
   "source": [
    "from ase import units\n",
    "\n",
    "element = 6\n",
    "\n",
    "r = utils.log_grid(.05, 3, 100)\n",
    "\n",
    "conversion = 2 * units._eps0 / (units.Bohr * units._e) * 1e-10\n",
    "\n",
    "fig, (ax1,ax2) = plt.subplots(1,2)\n",
    "\n",
    "v = ParameterizedPotential('lobato').potential(element)\n",
    "ax1.plot(r, v(r) / conversion, label='Lobato')\n",
    "ax2.plot(r, v(r) / conversion, label='Lobato')\n",
    "\n",
    "v = ParameterizedPotential('kirkland').potential(element)\n",
    "ax1.plot(r, v(r) / conversion, label='Kirkland')\n",
    "ax2.plot(r, v(r) / conversion, label='Kirkland')\n",
    "\n",
    "v = ParameterizedPotential('peng').potential(element)\n",
    "ax1.plot(r, v(r) / conversion, label='Peng')\n",
    "ax2.plot(r, v(r) / conversion, label='Peng')\n",
    "\n",
    "v = ParameterizedPotential('weickenmeier').potential(element)\n",
    "ax1.plot(r, v(r) / conversion, label='Weickenmeier')\n",
    "ax2.plot(r, v(r) / conversion, label='Weickenmeier')\n",
    "\n",
    "v = ParameterizedPotential('gpaw').potential(element)\n",
    "ax1.plot(r, v(r) / conversion, label='GPAW')\n",
    "ax2.plot(r, v(r) / conversion, label='GPAW')\n",
    "\n",
    "ax1.set_ylim([0,160])\n",
    "#ax1.set_xlim([0,.001])\n",
    "\n",
    "ax2.set_ylim([-.1,.4])\n",
    "ax2.set_xlim([2,2.1])"
   ]
  }
 ],
 "metadata": {
  "anaconda-cloud": {},
  "kernelspec": {
   "display_name": "Python 3",
   "language": "python",
   "name": "python3"
  },
  "language_info": {
   "codemirror_mode": {
    "name": "ipython",
    "version": 3
   },
   "file_extension": ".py",
   "mimetype": "text/x-python",
   "name": "python",
   "nbconvert_exporter": "python",
   "pygments_lexer": "ipython3",
   "version": "3.5.2"
  }
 },
 "nbformat": 4,
 "nbformat_minor": 2
}
